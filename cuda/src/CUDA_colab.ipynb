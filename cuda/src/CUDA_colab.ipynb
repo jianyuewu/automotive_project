{
  "nbformat": 4,
  "nbformat_minor": 0,
  "metadata": {
    "colab": {
      "provenance": [],
      "gpuType": "T4",
      "include_colab_link": true
    },
    "kernelspec": {
      "name": "python3",
      "display_name": "Python 3"
    },
    "language_info": {
      "name": "python"
    },
    "accelerator": "GPU"
  },
  "cells": [
    {
      "cell_type": "markdown",
      "metadata": {
        "id": "view-in-github",
        "colab_type": "text"
      },
      "source": [
        "<a href=\"https://colab.research.google.com/github/jianywu/automotive_project/blob/main/cuda/src/CUDA_colab.ipynb\" target=\"_parent\"><img src=\"https://colab.research.google.com/assets/colab-badge.svg\" alt=\"Open In Colab\"/></a>"
      ]
    },
    {
      "cell_type": "markdown",
      "source": [
        "# How to run CUDA in a Colab notebook\n",
        "\n",
        "This ipynb src is from: https://github.com/gittimos/cuda-colab.\n",
        "\n",
        "Develop and test high-performance CUDA applications directly within a browser, without the need for local GPU resources.\n",
        "\n",
        "This is a companion to my [blog post](https://moritzstrube.substack.com/publish/post/142751435), which contains a more detailed explanation and many valuable links.\n",
        "\n",
        "Use nvidia-smi to check if connected with GPU."
      ],
      "metadata": {
        "id": "eCyepK-ESmbx"
      }
    },
    {
      "cell_type": "code",
      "source": [
        "!nvidia-smi"
      ],
      "metadata": {
        "colab": {
          "base_uri": "https://localhost:8080/"
        },
        "id": "MnyntBYetPMX",
        "outputId": "788920dc-f220-4cab-8da5-83dd42a3c682"
      },
      "execution_count": 1,
      "outputs": [
        {
          "output_type": "stream",
          "name": "stdout",
          "text": [
            "Mon Jun 17 10:21:13 2024       \n",
            "+---------------------------------------------------------------------------------------+\n",
            "| NVIDIA-SMI 535.104.05             Driver Version: 535.104.05   CUDA Version: 12.2     |\n",
            "|-----------------------------------------+----------------------+----------------------+\n",
            "| GPU  Name                 Persistence-M | Bus-Id        Disp.A | Volatile Uncorr. ECC |\n",
            "| Fan  Temp   Perf          Pwr:Usage/Cap |         Memory-Usage | GPU-Util  Compute M. |\n",
            "|                                         |                      |               MIG M. |\n",
            "|=========================================+======================+======================|\n",
            "|   0  Tesla T4                       Off | 00000000:00:04.0 Off |                    0 |\n",
            "| N/A   37C    P8               9W /  70W |      0MiB / 15360MiB |      0%      Default |\n",
            "|                                         |                      |                  N/A |\n",
            "+-----------------------------------------+----------------------+----------------------+\n",
            "                                                                                         \n",
            "+---------------------------------------------------------------------------------------+\n",
            "| Processes:                                                                            |\n",
            "|  GPU   GI   CI        PID   Type   Process name                            GPU Memory |\n",
            "|        ID   ID                                                             Usage      |\n",
            "|=======================================================================================|\n",
            "|  No running processes found                                                           |\n",
            "+---------------------------------------------------------------------------------------+\n"
          ]
        }
      ]
    },
    {
      "cell_type": "markdown",
      "source": [
        " ### Installing nvcc4jupyter\n",
        "\n",
        " First, you need to install the nvcc4jupyter plugin in your Colab notebook. This can be done by running"
      ],
      "metadata": {
        "id": "qH5iQKzoSycV"
      }
    },
    {
      "cell_type": "code",
      "source": [
        "pip install nvcc4jupyter"
      ],
      "metadata": {
        "colab": {
          "base_uri": "https://localhost:8080/"
        },
        "id": "p81VKH1G-omV",
        "outputId": "711b2c4c-e83c-4174-efce-1c4b19bb626e"
      },
      "execution_count": 2,
      "outputs": [
        {
          "output_type": "stream",
          "name": "stdout",
          "text": [
            "Collecting nvcc4jupyter\n",
            "  Downloading nvcc4jupyter-1.2.1-py3-none-any.whl (10 kB)\n",
            "Installing collected packages: nvcc4jupyter\n",
            "Successfully installed nvcc4jupyter-1.2.1\n"
          ]
        }
      ]
    },
    {
      "cell_type": "markdown",
      "source": [
        "### Loading the Extension\n",
        "After installation, load the extension by running the following cell:"
      ],
      "metadata": {
        "id": "YfQJHHJsS7zQ"
      }
    },
    {
      "cell_type": "code",
      "source": [
        "%load_ext nvcc4jupyter"
      ],
      "metadata": {
        "colab": {
          "base_uri": "https://localhost:8080/"
        },
        "id": "UZGNoWYp-wG6",
        "outputId": "82ba33a9-8630-476e-d6d0-e03ef0ffd694"
      },
      "execution_count": 3,
      "outputs": [
        {
          "output_type": "stream",
          "name": "stdout",
          "text": [
            "Detected platform \"Colab\". Running its setup...\n",
            "Source files will be saved in \"/tmp/tmp7phfyogt\".\n"
          ]
        }
      ]
    },
    {
      "cell_type": "markdown",
      "source": [
        "### Writing CUDA Code\n",
        "\n",
        "Now, you're ready to write your CUDA code. Use the %%cuda magic command at the beginning of a cell to indicate that the following code is CUDA C++ code:"
      ],
      "metadata": {
        "id": "nIjWgKhkTllP"
      }
    },
    {
      "cell_type": "code",
      "source": [
        "%%cuda\n",
        "#include <stdio.h>\n",
        "\n",
        "__global__ void hello(){\n",
        "    printf(\"Hello from block: %u, thread: %u\\n\", blockIdx.x, threadIdx.x);\n",
        "}\n",
        "\n",
        "int main(){\n",
        "    hello<<<2, 2>>>();\n",
        "    cudaDeviceSynchronize();\n",
        "}"
      ],
      "metadata": {
        "colab": {
          "base_uri": "https://localhost:8080/"
        },
        "id": "_VIxftF2AEXO",
        "outputId": "f2ef8966-5795-4de7-db60-596e1f4a2b64"
      },
      "execution_count": 4,
      "outputs": [
        {
          "output_type": "stream",
          "name": "stdout",
          "text": [
            "Hello from block: 1, thread: 0\n",
            "Hello from block: 1, thread: 1\n",
            "Hello from block: 0, thread: 0\n",
            "Hello from block: 0, thread: 1\n",
            "\n"
          ]
        }
      ]
    },
    {
      "cell_type": "markdown",
      "source": [
        "### Compiling with cuRAND"
      ],
      "metadata": {
        "id": "fi3JiA_1T0sz"
      }
    },
    {
      "cell_type": "code",
      "source": [
        "%%cuda\n",
        "#include <stdio.h>\n",
        "#include <curand_kernel.h>\n",
        "\n",
        "__global__ void setup_kernel(curandState *state)\n",
        "{\n",
        "    int idx = threadIdx.x + blockDim.x * blockIdx.x;\n",
        "    curand_init(1234, idx, 0, &state[idx]);\n",
        "}\n",
        "\n",
        "__global__ void generate_random_numbers(curandState *state, float *results)\n",
        "{\n",
        "    int idx = threadIdx.x + blockDim.x * blockIdx.x;\n",
        "    curandState localState = state[idx];\n",
        "    results[idx] = curand_uniform(&localState);\n",
        "    state[idx] = localState;\n",
        "}\n",
        "\n",
        "int main()\n",
        "{\n",
        "    const int n = 256;\n",
        "    float *devResults;\n",
        "    curandState *devStates;\n",
        "\n",
        "    cudaMalloc((void **)&devResults, n * sizeof(float));\n",
        "    cudaMalloc((void **)&devStates, n * sizeof(curandState));\n",
        "\n",
        "    setup_kernel<<<1, n>>>(devStates);\n",
        "    generate_random_numbers<<<1, n>>>(devStates, devResults);\n",
        "\n",
        "    float *hostResults = (float *)malloc(n * sizeof(float));\n",
        "    cudaMemcpy(hostResults, devResults, n * sizeof(float), cudaMemcpyDeviceToHost);\n",
        "\n",
        "    for (int i = 0; i < n; i++) {\n",
        "        printf(\"%1.4f \", hostResults[i]);\n",
        "    }\n",
        "\n",
        "    printf(\"\\n\");\n",
        "\n",
        "    free(hostResults);\n",
        "    cudaFree(devResults);\n",
        "    cudaFree(devStates);\n",
        "\n",
        "    return 0;\n",
        "}"
      ],
      "metadata": {
        "colab": {
          "base_uri": "https://localhost:8080/"
        },
        "id": "4VW7a3HB_Ou5",
        "outputId": "09e95d00-b86e-477e-bdb5-225fe5b77d17"
      },
      "execution_count": 5,
      "outputs": [
        {
          "output_type": "stream",
          "name": "stdout",
          "text": [
            "0.1455 0.8202 0.5504 0.2948 0.9147 0.8690 0.3219 0.7829 0.0113 0.2855 0.7816 0.2338 0.6791 0.2824 0.6299 0.1212 0.4333 0.3831 0.5136 0.2987 0.4166 0.0345 0.0494 0.0467 0.6166 0.6480 0.8685 0.4012 0.0631 0.4972 0.6809 0.9350 0.0704 0.0458 0.1324 0.3785 0.6457 0.9930 0.9952 0.7677 0.3217 0.8210 0.2765 0.2691 0.4579 0.1969 0.9555 0.8739 0.7996 0.3810 0.6662 0.3153 0.9428 0.5006 0.3369 0.1490 0.8637 0.6191 0.6820 0.4573 0.9261 0.5650 0.7117 0.8252 0.8755 0.2216 0.2958 0.4046 0.3896 0.7335 0.7301 0.8154 0.0913 0.0866 0.6974 0.1811 0.5834 0.9255 0.9029 0.0413 0.9522 0.5507 0.7237 0.3976 0.7519 0.4398 0.4638 0.6094 0.7358 0.3272 0.6961 0.4893 0.9698 0.0456 0.2025 0.9491 0.1516 0.0424 0.6149 0.5638 0.6939 0.3146 0.3789 0.4445 0.2434 0.7767 0.3410 0.4800 0.9155 0.7785 0.3328 0.9594 0.7204 0.0598 0.0413 0.0768 0.7260 0.3966 0.6304 0.9518 0.6376 0.0148 0.9479 0.3318 0.0571 0.0555 0.9037 0.5324 0.1275 0.0500 0.7154 0.1011 0.3220 0.3423 0.8223 0.8637 0.0300 0.5660 0.9525 0.3251 0.0420 0.6712 0.5937 0.4994 0.7936 0.1044 0.1044 0.2280 0.7917 0.8249 0.8326 0.1200 0.4788 0.9384 0.2554 0.6130 0.7124 0.9174 0.4146 0.1942 0.3401 0.7214 0.0995 0.6385 0.0218 0.5328 0.1820 0.5874 0.8070 0.6431 0.6915 0.2044 0.8914 0.2466 0.4895 0.9098 0.0368 0.7677 0.8724 0.6224 0.5248 0.8499 0.4864 0.1557 0.5989 0.0520 0.2522 0.7376 0.3899 0.4421 0.1923 0.6537 0.3754 0.1598 0.1145 0.1045 0.0699 0.3253 0.4607 0.3159 0.7359 0.2606 0.7058 0.1659 0.7788 0.3895 0.8665 0.2405 0.5665 0.5769 0.5100 0.7650 0.5450 0.9485 0.4716 0.7229 0.9861 0.9921 0.8998 0.2880 0.4625 0.5919 0.5443 0.6674 0.3531 0.6395 0.0229 0.3804 0.6199 0.1040 0.6179 0.3238 0.3410 0.0193 0.8353 0.2324 0.0955 0.3125 0.8706 0.4691 0.7361 0.5679 0.5524 0.6412 0.2074 0.5398 0.2362 0.1369 0.1373 0.0687 0.8864 0.0996 0.9994 0.5048 0.9702 0.0129 \n",
            "\n"
          ]
        }
      ]
    }
  ]
}